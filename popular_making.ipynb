{
 "cells": [
  {
   "cell_type": "code",
   "execution_count": 1,
   "metadata": {},
   "outputs": [],
   "source": [
    "import pymysql\n",
    "import pandas as pd\n",
    "\n",
    "# Connect to the MySQL database\n",
    "conn = pymysql.connect(host='localhost',\n",
    "                        user='root',\n",
    "                        password='Mysql1234',\n",
    "                        database='eventmate')\n",
    "\n",
    "curr = conn.cursor()\n",
    "\n"
   ]
  },
  {
   "cell_type": "code",
   "execution_count": 2,
   "metadata": {},
   "outputs": [
    {
     "name": "stderr",
     "output_type": "stream",
     "text": [
      "C:\\Users\\Lenevo\\AppData\\Local\\Temp\\ipykernel_9260\\382478012.py:1: UserWarning: pandas only supports SQLAlchemy connectable (engine/connection) or database string URI or sqlite3 DBAPI2 connection. Other DBAPI2 objects are not tested. Please consider using SQLAlchemy.\n",
      "  user = pd.read_sql('SELECT StudentID as ID, tags FROM student where StudentID = \"22BBS0129\"', conn)\n",
      "C:\\Users\\Lenevo\\AppData\\Local\\Temp\\ipykernel_9260\\382478012.py:2: UserWarning: pandas only supports SQLAlchemy connectable (engine/connection) or database string URI or sqlite3 DBAPI2 connection. Other DBAPI2 objects are not tested. Please consider using SQLAlchemy.\n",
      "  events = pd.read_sql('SELECT EventID as ID, tags FROM Event', conn)\n"
     ]
    }
   ],
   "source": [
    "user = pd.read_sql('SELECT StudentID as ID, tags FROM student where StudentID = \"22BBS0129\"', conn)   \n",
    "events = pd.read_sql('SELECT EventID as ID, tags FROM Event', conn)\n",
    "\n",
    "df =  pd.concat([user, events], ignore_index=True)"
   ]
  },
  {
   "cell_type": "code",
   "execution_count": null,
   "metadata": {},
   "outputs": [],
   "source": []
  }
 ],
 "metadata": {
  "kernelspec": {
   "display_name": "Python 3",
   "language": "python",
   "name": "python3"
  },
  "language_info": {
   "codemirror_mode": {
    "name": "ipython",
    "version": 3
   },
   "file_extension": ".py",
   "mimetype": "text/x-python",
   "name": "python",
   "nbconvert_exporter": "python",
   "pygments_lexer": "ipython3",
   "version": "3.9.13"
  }
 },
 "nbformat": 4,
 "nbformat_minor": 2
}
