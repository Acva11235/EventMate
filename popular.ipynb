{
 "cells": [
  {
   "cell_type": "code",
   "execution_count": 1,
   "metadata": {},
   "outputs": [],
   "source": [
    "import pymysql\n",
    "import pandas as pd\n",
    "\n",
    "# Connect to the MySQL database\n",
    "conn = pymysql.connect(host='localhost',\n",
    "                        user='root',\n",
    "                        password='Mysql1234',\n",
    "                        database='eventmate')"
   ]
  },
  {
   "cell_type": "code",
   "execution_count": 2,
   "metadata": {},
   "outputs": [
    {
     "name": "stderr",
     "output_type": "stream",
     "text": [
      "C:\\Users\\Lenevo\\AppData\\Local\\Temp\\ipykernel_23924\\4132164417.py:1: UserWarning: pandas only supports SQLAlchemy connectable (engine/connection) or database string URI or sqlite3 DBAPI2 connection. Other DBAPI2 objects are not tested. Please consider using SQLAlchemy.\n",
      "  user = pd.read_sql('SELECT StudentID as ID, tags FROM student where StudentID = \"22BBS0129\"', conn)\n",
      "C:\\Users\\Lenevo\\AppData\\Local\\Temp\\ipykernel_23924\\4132164417.py:2: UserWarning: pandas only supports SQLAlchemy connectable (engine/connection) or database string URI or sqlite3 DBAPI2 connection. Other DBAPI2 objects are not tested. Please consider using SQLAlchemy.\n",
      "  events = pd.read_sql('SELECT EventID as ID, tags FROM Event', conn)\n"
     ]
    },
    {
     "data": {
      "text/html": [
       "<div>\n",
       "<style scoped>\n",
       "    .dataframe tbody tr th:only-of-type {\n",
       "        vertical-align: middle;\n",
       "    }\n",
       "\n",
       "    .dataframe tbody tr th {\n",
       "        vertical-align: top;\n",
       "    }\n",
       "\n",
       "    .dataframe thead th {\n",
       "        text-align: right;\n",
       "    }\n",
       "</style>\n",
       "<table border=\"1\" class=\"dataframe\">\n",
       "  <thead>\n",
       "    <tr style=\"text-align: right;\">\n",
       "      <th></th>\n",
       "      <th>ID</th>\n",
       "      <th>tags</th>\n",
       "    </tr>\n",
       "  </thead>\n",
       "  <tbody>\n",
       "    <tr>\n",
       "      <th>0</th>\n",
       "      <td>22BBS0129</td>\n",
       "      <td>Hackathon, Coding, Technology, Innovation, Com...</td>\n",
       "    </tr>\n",
       "    <tr>\n",
       "      <th>1</th>\n",
       "      <td>24ABCXYZ</td>\n",
       "      <td>Music, Concert, Performance, Entertainment, Ni...</td>\n",
       "    </tr>\n",
       "    <tr>\n",
       "      <th>2</th>\n",
       "      <td>24CDCDVS</td>\n",
       "      <td>Hackathon, Coding, Technology, Innovation, Com...</td>\n",
       "    </tr>\n",
       "    <tr>\n",
       "      <th>3</th>\n",
       "      <td>24DEFUVW</td>\n",
       "      <td>Workshop, AI, Machine Learning, Artificial Int...</td>\n",
       "    </tr>\n",
       "    <tr>\n",
       "      <th>4</th>\n",
       "      <td>24YMCAKY</td>\n",
       "      <td>Dance, Competition, Performance, Music, Choreo...</td>\n",
       "    </tr>\n",
       "    <tr>\n",
       "      <th>5</th>\n",
       "      <td>25GHIJKL</td>\n",
       "      <td>Coding, Challenge, Competition, Programming, P...</td>\n",
       "    </tr>\n",
       "    <tr>\n",
       "      <th>6</th>\n",
       "      <td>26MNOPQR</td>\n",
       "      <td>Design, Expo, Exhibition, Innovative, Creativi...</td>\n",
       "    </tr>\n",
       "    <tr>\n",
       "      <th>7</th>\n",
       "      <td>27STUVWX</td>\n",
       "      <td>Hackathon, Competition, Development, Creative,...</td>\n",
       "    </tr>\n",
       "    <tr>\n",
       "      <th>8</th>\n",
       "      <td>28YZABCD</td>\n",
       "      <td>Music, Workshop, Learning, Basics, Techniques,...</td>\n",
       "    </tr>\n",
       "    <tr>\n",
       "      <th>9</th>\n",
       "      <td>29CDEFGH</td>\n",
       "      <td>Web, Development, Seminar, Trends, Web Develop...</td>\n",
       "    </tr>\n",
       "    <tr>\n",
       "      <th>10</th>\n",
       "      <td>30IJKLMO</td>\n",
       "      <td>Environment, Cleanup, Earth Day, Green, Sustai...</td>\n",
       "    </tr>\n",
       "    <tr>\n",
       "      <th>11</th>\n",
       "      <td>31PQRSTU</td>\n",
       "      <td>Panel, Discussion, Social, Impact, Issues, Awa...</td>\n",
       "    </tr>\n",
       "    <tr>\n",
       "      <th>12</th>\n",
       "      <td>32VWXYZA</td>\n",
       "      <td>Literature, Festival, Reading, Writing, Poetry...</td>\n",
       "    </tr>\n",
       "    <tr>\n",
       "      <th>13</th>\n",
       "      <td>33BCDEFG</td>\n",
       "      <td>Cultural, Night, Performance, Activities, Cele...</td>\n",
       "    </tr>\n",
       "    <tr>\n",
       "      <th>14</th>\n",
       "      <td>34HIJKLM</td>\n",
       "      <td>Dance, Workshop, Styles, Learning, Choreograph...</td>\n",
       "    </tr>\n",
       "    <tr>\n",
       "      <th>15</th>\n",
       "      <td>35NOPQRS</td>\n",
       "      <td>UI, UX, Design, Seminar, User Interface, User ...</td>\n",
       "    </tr>\n",
       "    <tr>\n",
       "      <th>16</th>\n",
       "      <td>36TUVWXY</td>\n",
       "      <td>Web3.0, Conference, Future, Web, Technology, I...</td>\n",
       "    </tr>\n",
       "  </tbody>\n",
       "</table>\n",
       "</div>"
      ],
      "text/plain": [
       "           ID                                               tags\n",
       "0   22BBS0129  Hackathon, Coding, Technology, Innovation, Com...\n",
       "1    24ABCXYZ  Music, Concert, Performance, Entertainment, Ni...\n",
       "2    24CDCDVS  Hackathon, Coding, Technology, Innovation, Com...\n",
       "3    24DEFUVW  Workshop, AI, Machine Learning, Artificial Int...\n",
       "4    24YMCAKY  Dance, Competition, Performance, Music, Choreo...\n",
       "5    25GHIJKL  Coding, Challenge, Competition, Programming, P...\n",
       "6    26MNOPQR  Design, Expo, Exhibition, Innovative, Creativi...\n",
       "7    27STUVWX  Hackathon, Competition, Development, Creative,...\n",
       "8    28YZABCD  Music, Workshop, Learning, Basics, Techniques,...\n",
       "9    29CDEFGH  Web, Development, Seminar, Trends, Web Develop...\n",
       "10   30IJKLMO  Environment, Cleanup, Earth Day, Green, Sustai...\n",
       "11   31PQRSTU  Panel, Discussion, Social, Impact, Issues, Awa...\n",
       "12   32VWXYZA  Literature, Festival, Reading, Writing, Poetry...\n",
       "13   33BCDEFG  Cultural, Night, Performance, Activities, Cele...\n",
       "14   34HIJKLM  Dance, Workshop, Styles, Learning, Choreograph...\n",
       "15   35NOPQRS  UI, UX, Design, Seminar, User Interface, User ...\n",
       "16   36TUVWXY  Web3.0, Conference, Future, Web, Technology, I..."
      ]
     },
     "execution_count": 2,
     "metadata": {},
     "output_type": "execute_result"
    }
   ],
   "source": [
    "user = pd.read_sql('SELECT StudentID as ID, tags FROM student where StudentID = \"22BBS0129\"', conn)   \n",
    "events = pd.read_sql('SELECT EventID as ID, tags FROM Event', conn)\n",
    "\n",
    "df =  pd.concat([user, events], ignore_index=True)\n",
    "df"
   ]
  },
  {
   "cell_type": "code",
   "execution_count": 4,
   "metadata": {},
   "outputs": [],
   "source": [
    "from sklearn.feature_extraction.text import CountVectorizer\n",
    "\n",
    "cv = CountVectorizer(max_features=10, stop_words=\"english\")"
   ]
  },
  {
   "cell_type": "code",
   "execution_count": 5,
   "metadata": {},
   "outputs": [
    {
     "data": {
      "text/plain": [
       "array([[1, 0, 0, 0, 1, 0, 1, 1, 1, 0],\n",
       "       [0, 0, 0, 0, 0, 0, 1, 0, 0, 0],\n",
       "       [1, 0, 0, 1, 1, 0, 0, 1, 1, 0],\n",
       "       [0, 0, 0, 1, 0, 2, 0, 0, 1, 0],\n",
       "       [1, 1, 0, 0, 0, 0, 1, 0, 0, 0],\n",
       "       [1, 0, 0, 1, 0, 0, 0, 1, 0, 0],\n",
       "       [0, 0, 1, 0, 0, 0, 0, 0, 0, 0],\n",
       "       [1, 0, 0, 1, 1, 0, 0, 1, 1, 0],\n",
       "       [0, 0, 0, 0, 0, 1, 2, 0, 0, 0],\n",
       "       [0, 0, 1, 2, 0, 1, 0, 1, 1, 3],\n",
       "       [0, 0, 0, 0, 0, 0, 0, 0, 0, 0],\n",
       "       [0, 0, 0, 0, 0, 0, 0, 0, 0, 0],\n",
       "       [0, 0, 0, 0, 0, 0, 0, 0, 0, 0],\n",
       "       [0, 0, 0, 0, 0, 0, 1, 0, 0, 0],\n",
       "       [0, 3, 0, 0, 0, 1, 0, 0, 0, 0],\n",
       "       [0, 0, 3, 1, 0, 0, 0, 0, 1, 1],\n",
       "       [0, 0, 0, 1, 1, 0, 0, 1, 1, 3]], dtype=int64)"
      ]
     },
     "execution_count": 5,
     "metadata": {},
     "output_type": "execute_result"
    }
   ],
   "source": [
    "vectors = cv.fit_transform(df['tags']).toarray()\n",
    "vectors"
   ]
  },
  {
   "cell_type": "code",
   "execution_count": 7,
   "metadata": {},
   "outputs": [
    {
     "data": {
      "text/plain": [
       "array(['competition', 'dance', 'design', 'development', 'innovation',\n",
       "       'learning', 'music', 'tech', 'technology', 'web'], dtype=object)"
      ]
     },
     "execution_count": 7,
     "metadata": {},
     "output_type": "execute_result"
    }
   ],
   "source": [
    "cv.get_feature_names_out()"
   ]
  },
  {
   "cell_type": "code",
   "execution_count": 8,
   "metadata": {},
   "outputs": [
    {
     "name": "stdout",
     "output_type": "stream",
     "text": [
      "Collecting nltk\n",
      "  Downloading nltk-3.8.1-py3-none-any.whl.metadata (2.8 kB)\n",
      "Requirement already satisfied: click in c:\\users\\lenevo\\appdata\\local\\programs\\python\\python39\\lib\\site-packages (from nltk) (8.1.7)\n",
      "Requirement already satisfied: joblib in c:\\users\\lenevo\\appdata\\local\\programs\\python\\python39\\lib\\site-packages (from nltk) (1.3.1)\n",
      "Collecting regex>=2021.8.3 (from nltk)\n",
      "  Downloading regex-2023.12.25-cp39-cp39-win_amd64.whl.metadata (41 kB)\n",
      "     ---------------------------------------- 0.0/42.0 kB ? eta -:--:--\n",
      "     --------------------------- ---------- 30.7/42.0 kB 660.6 kB/s eta 0:00:01\n",
      "     -------------------------------------- 42.0/42.0 kB 503.7 kB/s eta 0:00:00\n",
      "Collecting tqdm (from nltk)\n",
      "  Downloading tqdm-4.66.2-py3-none-any.whl.metadata (57 kB)\n",
      "     ---------------------------------------- 0.0/57.6 kB ? eta -:--:--\n",
      "     --------------------- ------------------ 30.7/57.6 kB 1.3 MB/s eta 0:00:01\n",
      "     -------------------------------------- 57.6/57.6 kB 751.5 kB/s eta 0:00:00\n",
      "Requirement already satisfied: colorama in c:\\users\\lenevo\\appdata\\local\\programs\\python\\python39\\lib\\site-packages (from click->nltk) (0.4.6)\n",
      "Downloading nltk-3.8.1-py3-none-any.whl (1.5 MB)\n",
      "   ---------------------------------------- 0.0/1.5 MB ? eta -:--:--\n",
      "    --------------------------------------- 0.0/1.5 MB 660.6 kB/s eta 0:00:03\n",
      "   - -------------------------------------- 0.1/1.5 MB 656.4 kB/s eta 0:00:03\n",
      "   -- ------------------------------------- 0.1/1.5 MB 655.4 kB/s eta 0:00:03\n",
      "   -- ------------------------------------- 0.1/1.5 MB 731.4 kB/s eta 0:00:02\n",
      "   --- ------------------------------------ 0.1/1.5 MB 711.9 kB/s eta 0:00:02\n",
      "   ---- ----------------------------------- 0.2/1.5 MB 700.2 kB/s eta 0:00:02\n",
      "   ----- ---------------------------------- 0.2/1.5 MB 692.4 kB/s eta 0:00:02\n",
      "   ------ --------------------------------- 0.2/1.5 MB 722.1 kB/s eta 0:00:02\n",
      "   ------- -------------------------------- 0.3/1.5 MB 741.6 kB/s eta 0:00:02\n",
      "   ------- -------------------------------- 0.3/1.5 MB 708.9 kB/s eta 0:00:02\n",
      "   -------- ------------------------------- 0.3/1.5 MB 703.0 kB/s eta 0:00:02\n",
      "   --------- ------------------------------ 0.4/1.5 MB 719.3 kB/s eta 0:00:02\n",
      "   ---------- ----------------------------- 0.4/1.5 MB 713.5 kB/s eta 0:00:02\n",
      "   ---------- ----------------------------- 0.4/1.5 MB 710.6 kB/s eta 0:00:02\n",
      "   ----------- ---------------------------- 0.5/1.5 MB 723.0 kB/s eta 0:00:02\n",
      "   ------------- -------------------------- 0.5/1.5 MB 717.3 kB/s eta 0:00:02\n",
      "   ------------- -------------------------- 0.5/1.5 MB 730.4 kB/s eta 0:00:02\n",
      "   -------------- ------------------------- 0.5/1.5 MB 725.4 kB/s eta 0:00:02\n",
      "   --------------- ------------------------ 0.6/1.5 MB 721.1 kB/s eta 0:00:02\n",
      "   ---------------- ----------------------- 0.6/1.5 MB 729.7 kB/s eta 0:00:02\n",
      "   ---------------- ----------------------- 0.6/1.5 MB 728.8 kB/s eta 0:00:02\n",
      "   ----------------- ---------------------- 0.7/1.5 MB 723.4 kB/s eta 0:00:02\n",
      "   ------------------ --------------------- 0.7/1.5 MB 730.7 kB/s eta 0:00:02\n",
      "   ------------------- -------------------- 0.7/1.5 MB 727.0 kB/s eta 0:00:02\n",
      "   -------------------- ------------------- 0.8/1.5 MB 735.0 kB/s eta 0:00:02\n",
      "   --------------------- ------------------ 0.8/1.5 MB 731.4 kB/s eta 0:00:01\n",
      "   --------------------- ------------------ 0.8/1.5 MB 729.4 kB/s eta 0:00:01\n",
      "   ----------------------- ---------------- 0.9/1.5 MB 734.6 kB/s eta 0:00:01\n",
      "   ----------------------- ---------------- 0.9/1.5 MB 733.3 kB/s eta 0:00:01\n",
      "   ------------------------ --------------- 0.9/1.5 MB 730.2 kB/s eta 0:00:01\n",
      "   ------------------------ --------------- 0.9/1.5 MB 728.5 kB/s eta 0:00:01\n",
      "   -------------------------- ------------- 1.0/1.5 MB 732.5 kB/s eta 0:00:01\n",
      "   -------------------------- ------------- 1.0/1.5 MB 729.8 kB/s eta 0:00:01\n",
      "   --------------------------- ------------ 1.0/1.5 MB 727.8 kB/s eta 0:00:01\n",
      "   ---------------------------- ----------- 1.1/1.5 MB 732.9 kB/s eta 0:00:01\n",
      "   ----------------------------- ---------- 1.1/1.5 MB 737.3 kB/s eta 0:00:01\n",
      "   ------------------------------ --------- 1.1/1.5 MB 735.2 kB/s eta 0:00:01\n",
      "   ------------------------------- -------- 1.2/1.5 MB 732.8 kB/s eta 0:00:01\n",
      "   ------------------------------- -------- 1.2/1.5 MB 730.5 kB/s eta 0:00:01\n",
      "   -------------------------------- ------- 1.2/1.5 MB 728.4 kB/s eta 0:00:01\n",
      "   --------------------------------- ------ 1.3/1.5 MB 732.3 kB/s eta 0:00:01\n",
      "   ---------------------------------- ----- 1.3/1.5 MB 736.8 kB/s eta 0:00:01\n",
      "   ----------------------------------- ---- 1.3/1.5 MB 734.7 kB/s eta 0:00:01\n",
      "   ------------------------------------ --- 1.4/1.5 MB 732.6 kB/s eta 0:00:01\n",
      "   ------------------------------------- -- 1.4/1.5 MB 730.7 kB/s eta 0:00:01\n",
      "   -------------------------------------- - 1.4/1.5 MB 734.0 kB/s eta 0:00:01\n",
      "   -------------------------------------- - 1.5/1.5 MB 727.7 kB/s eta 0:00:01\n",
      "   ---------------------------------------  1.5/1.5 MB 731.8 kB/s eta 0:00:01\n",
      "   ---------------------------------------- 1.5/1.5 MB 727.7 kB/s eta 0:00:00\n",
      "Downloading regex-2023.12.25-cp39-cp39-win_amd64.whl (269 kB)\n",
      "   ---------------------------------------- 0.0/269.5 kB ? eta -:--:--\n",
      "   ---- ---------------------------------- 30.7/269.5 kB 660.6 kB/s eta 0:00:01\n",
      "   -------- ------------------------------ 61.4/269.5 kB 812.7 kB/s eta 0:00:01\n",
      "   ------------- ------------------------- 92.2/269.5 kB 744.7 kB/s eta 0:00:01\n",
      "   ----------------- -------------------- 122.9/269.5 kB 722.1 kB/s eta 0:00:01\n",
      "   --------------------- ---------------- 153.6/269.5 kB 706.2 kB/s eta 0:00:01\n",
      "   ------------------------ ------------- 174.1/269.5 kB 748.1 kB/s eta 0:00:01\n",
      "   ---------------------------- --------- 204.8/269.5 kB 731.4 kB/s eta 0:00:01\n",
      "   --------------------------------- ---- 235.5/269.5 kB 719.7 kB/s eta 0:00:01\n",
      "   -------------------------------------- 269.5/269.5 kB 720.3 kB/s eta 0:00:00\n",
      "Downloading tqdm-4.66.2-py3-none-any.whl (78 kB)\n",
      "   ---------------------------------------- 0.0/78.3 kB ? eta -:--:--\n",
      "   -------------------- ------------------- 41.0/78.3 kB 653.6 kB/s eta 0:00:01\n",
      "   ---------------------------------------- 78.3/78.3 kB 731.8 kB/s eta 0:00:00\n",
      "Installing collected packages: tqdm, regex, nltk\n",
      "Successfully installed nltk-3.8.1 regex-2023.12.25 tqdm-4.66.2\n"
     ]
    },
    {
     "name": "stderr",
     "output_type": "stream",
     "text": [
      "WARNING: Ignoring invalid distribution -rotobuf (c:\\users\\lenevo\\appdata\\local\\programs\\python\\python39\\lib\\site-packages)\n",
      "WARNING: Ignoring invalid distribution -rotobuf (c:\\users\\lenevo\\appdata\\local\\programs\\python\\python39\\lib\\site-packages)\n"
     ]
    }
   ],
   "source": [
    "!pip install nltk"
   ]
  },
  {
   "cell_type": "code",
   "execution_count": 10,
   "metadata": {},
   "outputs": [],
   "source": [
    "from nltk.stem.porter import PorterStemmer\n",
    "\n",
    "ps = PorterStemmer()"
   ]
  },
  {
   "cell_type": "code",
   "execution_count": 17,
   "metadata": {},
   "outputs": [],
   "source": [
    "def stem(text):\n",
    "    y = []\n",
    "    \n",
    "    for i in text.split():\n",
    "        y.append(ps.stem(i))\n",
    "\n",
    "    return \" \".join(y)"
   ]
  },
  {
   "cell_type": "code",
   "execution_count": 28,
   "metadata": {},
   "outputs": [],
   "source": [
    "df['tags'] = df['tags'].apply(stem)"
   ]
  },
  {
   "cell_type": "code",
   "execution_count": 23,
   "metadata": {},
   "outputs": [
    {
     "data": {
      "text/plain": [
       "'love'"
      ]
     },
     "execution_count": 23,
     "metadata": {},
     "output_type": "execute_result"
    }
   ],
   "source": []
  },
  {
   "cell_type": "code",
   "execution_count": 31,
   "metadata": {},
   "outputs": [
    {
     "data": {
      "text/plain": [
       "'danc'"
      ]
     },
     "execution_count": 31,
     "metadata": {},
     "output_type": "execute_result"
    }
   ],
   "source": [
    "ps.stem(\"Danced\")"
   ]
  },
  {
   "cell_type": "code",
   "execution_count": 34,
   "metadata": {},
   "outputs": [
    {
     "data": {
      "text/plain": [
       "array([1.        , 0.4472136 , 0.8       , 0.18257419, 0.51639778,\n",
       "       0.51639778, 0.        , 0.8       , 0.4       , 0.21693046,\n",
       "       0.        , 0.        , 0.        , 0.4472136 , 0.        ,\n",
       "       0.12909944, 0.3721042 ])"
      ]
     },
     "execution_count": 34,
     "metadata": {},
     "output_type": "execute_result"
    }
   ],
   "source": [
    "from sklearn.metrics.pairwise import cosine_similarity\n",
    "\n",
    "cosine_similarity(vectors)[0]"
   ]
  },
  {
   "cell_type": "code",
   "execution_count": 39,
   "metadata": {},
   "outputs": [
    {
     "name": "stdout",
     "output_type": "stream",
     "text": [
      "24CDCDVS\n",
      "27STUVWX\n",
      "24YMCAKY\n",
      "25GHIJKL\n",
      "24ABCXYZ\n"
     ]
    }
   ],
   "source": [
    "from sklearn.metrics.pairwise import cosine_similarity\n",
    "\n",
    "def recommend():\n",
    "    \n",
    "\n",
    "    events = sorted(list(enumerate(cosine_similarity(vectors)[0])), reverse=True, key=lambda x:x[1])[1:6]\n",
    "\n",
    "    for i in events:\n",
    "        print(df.iloc[i[0]][\"ID\"])\n",
    "\n",
    "recommend()"
   ]
  },
  {
   "cell_type": "code",
   "execution_count": 36,
   "metadata": {},
   "outputs": [
    {
     "data": {
      "text/plain": [
       "[(0, 0.9999999999999999),\n",
       " (2, 0.7999999999999999),\n",
       " (7, 0.7999999999999999),\n",
       " (4, 0.5163977794943223),\n",
       " (5, 0.5163977794943223),\n",
       " (1, 0.4472135954999579),\n",
       " (13, 0.4472135954999579),\n",
       " (8, 0.39999999999999997),\n",
       " (16, 0.3721042037676254),\n",
       " (9, 0.21693045781865616),\n",
       " (3, 0.18257418583505539),\n",
       " (15, 0.12909944487358058),\n",
       " (6, 0.0),\n",
       " (10, 0.0),\n",
       " (11, 0.0),\n",
       " (12, 0.0),\n",
       " (14, 0.0)]"
      ]
     },
     "execution_count": 36,
     "metadata": {},
     "output_type": "execute_result"
    }
   ],
   "source": [
    "sorted(list(enumerate(cosine_similarity(vectors)[0])), reverse=True, key=lambda x:x[1])"
   ]
  }
 ],
 "metadata": {
  "kernelspec": {
   "display_name": "Python 3",
   "language": "python",
   "name": "python3"
  },
  "language_info": {
   "codemirror_mode": {
    "name": "ipython",
    "version": 3
   },
   "file_extension": ".py",
   "mimetype": "text/x-python",
   "name": "python",
   "nbconvert_exporter": "python",
   "pygments_lexer": "ipython3",
   "version": "3.9.13"
  }
 },
 "nbformat": 4,
 "nbformat_minor": 2
}
