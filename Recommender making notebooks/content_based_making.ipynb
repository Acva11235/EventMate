{
 "cells": [
  {
   "cell_type": "code",
   "execution_count": 5,
   "metadata": {},
   "outputs": [],
   "source": [
    "import pymysql\n",
    "import pandas as pd\n",
    "\n",
    "# Connect to the MySQL database\n",
    "conn = pymysql.connect(host='localhost',\n",
    "                        user='root',\n",
    "                        password='1234',\n",
    "                        database='eventmate')"
   ]
  },
  {
   "cell_type": "code",
   "execution_count": 23,
   "metadata": {},
   "outputs": [
    {
     "name": "stderr",
     "output_type": "stream",
     "text": [
      "C:\\Users\\Lenevo\\AppData\\Local\\Temp\\ipykernel_20892\\1746004860.py:1: UserWarning: pandas only supports SQLAlchemy connectable (engine/connection) or database string URI or sqlite3 DBAPI2 connection. Other DBAPI2 objects are not tested. Please consider using SQLAlchemy.\n",
      "  user = pd.read_sql('SELECT StudentID as ID, tags FROM student where StudentID = \"22BBS0129\"', conn)\n",
      "C:\\Users\\Lenevo\\AppData\\Local\\Temp\\ipykernel_20892\\1746004860.py:2: UserWarning: pandas only supports SQLAlchemy connectable (engine/connection) or database string URI or sqlite3 DBAPI2 connection. Other DBAPI2 objects are not tested. Please consider using SQLAlchemy.\n",
      "  events = pd.read_sql('SELECT EventID as ID, tags,description FROM Event', conn)\n"
     ]
    },
    {
     "data": {
      "text/html": [
       "<div>\n",
       "<style scoped>\n",
       "    .dataframe tbody tr th:only-of-type {\n",
       "        vertical-align: middle;\n",
       "    }\n",
       "\n",
       "    .dataframe tbody tr th {\n",
       "        vertical-align: top;\n",
       "    }\n",
       "\n",
       "    .dataframe thead th {\n",
       "        text-align: right;\n",
       "    }\n",
       "</style>\n",
       "<table border=\"1\" class=\"dataframe\">\n",
       "  <thead>\n",
       "    <tr style=\"text-align: right;\">\n",
       "      <th></th>\n",
       "      <th>ID</th>\n",
       "      <th>tags</th>\n",
       "      <th>description</th>\n",
       "    </tr>\n",
       "  </thead>\n",
       "  <tbody>\n",
       "    <tr>\n",
       "      <th>0</th>\n",
       "      <td>22BBS0129</td>\n",
       "      <td>Hackathon, Coding, Technology, Innovation, Com...</td>\n",
       "      <td>NaN</td>\n",
       "    </tr>\n",
       "    <tr>\n",
       "      <th>1</th>\n",
       "      <td>24ABCXYZ</td>\n",
       "      <td>Music, Concert, Performance, Entertainment, Ni...</td>\n",
       "      <td>An evening of musical performances</td>\n",
       "    </tr>\n",
       "    <tr>\n",
       "      <th>2</th>\n",
       "      <td>24CDCDVS</td>\n",
       "      <td>Hackathon, Coding, Technology, Innovation, Com...</td>\n",
       "      <td>Annual tech fest showcasing latest technologies</td>\n",
       "    </tr>\n",
       "    <tr>\n",
       "      <th>3</th>\n",
       "      <td>24DEFUVW</td>\n",
       "      <td>Workshop, AI, Machine Learning, Artificial Int...</td>\n",
       "      <td>Hands-on workshop on AI and Machine Learning</td>\n",
       "    </tr>\n",
       "    <tr>\n",
       "      <th>4</th>\n",
       "      <td>24YMCAKY</td>\n",
       "      <td>Dance, Competition, Performance, Music, Choreo...</td>\n",
       "      <td>Inter-college dance competition</td>\n",
       "    </tr>\n",
       "    <tr>\n",
       "      <th>5</th>\n",
       "      <td>25GHIJKL</td>\n",
       "      <td>Coding, Challenge, Competition, Programming, P...</td>\n",
       "      <td>Test your coding skills in a competitive envir...</td>\n",
       "    </tr>\n",
       "    <tr>\n",
       "      <th>6</th>\n",
       "      <td>26MNOPQR</td>\n",
       "      <td>Design, Expo, Exhibition, Innovative, Creativi...</td>\n",
       "      <td>Exhibition showcasing innovative designs</td>\n",
       "    </tr>\n",
       "    <tr>\n",
       "      <th>7</th>\n",
       "      <td>27STUVWX</td>\n",
       "      <td>Hackathon, Competition, Development, Creative,...</td>\n",
       "      <td>24-hour hackathon to develop creative solutions</td>\n",
       "    </tr>\n",
       "    <tr>\n",
       "      <th>8</th>\n",
       "      <td>28YZABCD</td>\n",
       "      <td>Music, Workshop, Learning, Basics, Techniques,...</td>\n",
       "      <td>Learn music basics and techniques from experts</td>\n",
       "    </tr>\n",
       "    <tr>\n",
       "      <th>9</th>\n",
       "      <td>29CDEFGH</td>\n",
       "      <td>Web, Development, Seminar, Trends, Web Develop...</td>\n",
       "      <td>Explore the latest trends in web development</td>\n",
       "    </tr>\n",
       "    <tr>\n",
       "      <th>10</th>\n",
       "      <td>30IJKLMO</td>\n",
       "      <td>Environment, Cleanup, Earth Day, Green, Sustai...</td>\n",
       "      <td>Join us in cleaning up the environment for Ear...</td>\n",
       "    </tr>\n",
       "    <tr>\n",
       "      <th>11</th>\n",
       "      <td>31PQRSTU</td>\n",
       "      <td>Panel, Discussion, Social, Impact, Issues, Awa...</td>\n",
       "      <td>Discussion on social issues and their impact</td>\n",
       "    </tr>\n",
       "    <tr>\n",
       "      <th>12</th>\n",
       "      <td>32VWXYZA</td>\n",
       "      <td>Literature, Festival, Reading, Writing, Poetry...</td>\n",
       "      <td>Celebration of literature with readings and pe...</td>\n",
       "    </tr>\n",
       "    <tr>\n",
       "      <th>13</th>\n",
       "      <td>33BCDEFG</td>\n",
       "      <td>Cultural, Night, Performance, Activities, Cele...</td>\n",
       "      <td>An evening of cultural performances and activi...</td>\n",
       "    </tr>\n",
       "    <tr>\n",
       "      <th>14</th>\n",
       "      <td>34HIJKLM</td>\n",
       "      <td>Dance, Workshop, Styles, Learning, Choreograph...</td>\n",
       "      <td>Learn dance styles from around the world</td>\n",
       "    </tr>\n",
       "    <tr>\n",
       "      <th>15</th>\n",
       "      <td>35NOPQRS</td>\n",
       "      <td>UI, UX, Design, Seminar, User Interface, User ...</td>\n",
       "      <td>Insights into user interface and user experien...</td>\n",
       "    </tr>\n",
       "    <tr>\n",
       "      <th>16</th>\n",
       "      <td>36TUVWXY</td>\n",
       "      <td>Web3.0, Conference, Future, Web, Technology, I...</td>\n",
       "      <td>Explore the future of the web with Web3.0 tech...</td>\n",
       "    </tr>\n",
       "  </tbody>\n",
       "</table>\n",
       "</div>"
      ],
      "text/plain": [
       "           ID                                               tags  \\\n",
       "0   22BBS0129  Hackathon, Coding, Technology, Innovation, Com...   \n",
       "1    24ABCXYZ  Music, Concert, Performance, Entertainment, Ni...   \n",
       "2    24CDCDVS  Hackathon, Coding, Technology, Innovation, Com...   \n",
       "3    24DEFUVW  Workshop, AI, Machine Learning, Artificial Int...   \n",
       "4    24YMCAKY  Dance, Competition, Performance, Music, Choreo...   \n",
       "5    25GHIJKL  Coding, Challenge, Competition, Programming, P...   \n",
       "6    26MNOPQR  Design, Expo, Exhibition, Innovative, Creativi...   \n",
       "7    27STUVWX  Hackathon, Competition, Development, Creative,...   \n",
       "8    28YZABCD  Music, Workshop, Learning, Basics, Techniques,...   \n",
       "9    29CDEFGH  Web, Development, Seminar, Trends, Web Develop...   \n",
       "10   30IJKLMO  Environment, Cleanup, Earth Day, Green, Sustai...   \n",
       "11   31PQRSTU  Panel, Discussion, Social, Impact, Issues, Awa...   \n",
       "12   32VWXYZA  Literature, Festival, Reading, Writing, Poetry...   \n",
       "13   33BCDEFG  Cultural, Night, Performance, Activities, Cele...   \n",
       "14   34HIJKLM  Dance, Workshop, Styles, Learning, Choreograph...   \n",
       "15   35NOPQRS  UI, UX, Design, Seminar, User Interface, User ...   \n",
       "16   36TUVWXY  Web3.0, Conference, Future, Web, Technology, I...   \n",
       "\n",
       "                                          description  \n",
       "0                                                 NaN  \n",
       "1                  An evening of musical performances  \n",
       "2     Annual tech fest showcasing latest technologies  \n",
       "3        Hands-on workshop on AI and Machine Learning  \n",
       "4                     Inter-college dance competition  \n",
       "5   Test your coding skills in a competitive envir...  \n",
       "6            Exhibition showcasing innovative designs  \n",
       "7     24-hour hackathon to develop creative solutions  \n",
       "8      Learn music basics and techniques from experts  \n",
       "9        Explore the latest trends in web development  \n",
       "10  Join us in cleaning up the environment for Ear...  \n",
       "11       Discussion on social issues and their impact  \n",
       "12  Celebration of literature with readings and pe...  \n",
       "13  An evening of cultural performances and activi...  \n",
       "14           Learn dance styles from around the world  \n",
       "15  Insights into user interface and user experien...  \n",
       "16  Explore the future of the web with Web3.0 tech...  "
      ]
     },
     "execution_count": 23,
     "metadata": {},
     "output_type": "execute_result"
    }
   ],
   "source": [
    "user = pd.read_sql('SELECT StudentID as ID, tags FROM student where StudentID = \"22BBS0129\"', conn)   \n",
    "events = pd.read_sql('SELECT EventID as ID, tags,description FROM Event', conn)\n",
    "\n",
    "df =  pd.concat([user, events], ignore_index=True)\n",
    "df"
   ]
  },
  {
   "cell_type": "code",
   "execution_count": 7,
   "metadata": {},
   "outputs": [],
   "source": [
    "from nltk.stem.porter import PorterStemmer\n",
    "\n",
    "ps = PorterStemmer()          #Perfoming stemming (Dancing, Danced all will become Danc (Root word))"
   ]
  },
  {
   "cell_type": "code",
   "execution_count": 8,
   "metadata": {},
   "outputs": [],
   "source": [
    "def stem(text):\n",
    "    y = []\n",
    "    \n",
    "    for i in text.split():\n",
    "        y.append(ps.stem(i))\n",
    "\n",
    "    return \" \".join(y)"
   ]
  },
  {
   "cell_type": "code",
   "execution_count": 9,
   "metadata": {},
   "outputs": [],
   "source": [
    "df['tags'] = df['tags'].apply(stem)"
   ]
  },
  {
   "cell_type": "code",
   "execution_count": 10,
   "metadata": {},
   "outputs": [
    {
     "data": {
      "text/plain": [
       "0     hackathon, coding, technology, innovation, com...\n",
       "1     music, concert, performance, entertainment, ni...\n",
       "2     hackathon, coding, technology, innovation, com...\n",
       "3     workshop, ai, machin learning, artifici intell...\n",
       "4     dance, competition, performance, music, choreo...\n",
       "5     coding, challenge, competition, programming, p...\n",
       "6     design, expo, exhibition, innovative, creativi...\n",
       "7     hackathon, competition, development, creative,...\n",
       "8     music, workshop, learning, basics, techniques,...\n",
       "9     web, development, seminar, trends, web develop...\n",
       "10    environment, cleanup, earth day, green, sustai...\n",
       "11    panel, discussion, social, impact, issues, awa...\n",
       "12    literature, festival, reading, writing, poetry...\n",
       "13    cultural, night, performance, activities, cele...\n",
       "14    dance, workshop, styles, learning, choreograph...\n",
       "15    ui, ux, design, seminar, user interface, user ...\n",
       "16    web3.0, conference, future, web, technology, i...\n",
       "Name: tags, dtype: object"
      ]
     },
     "execution_count": 10,
     "metadata": {},
     "output_type": "execute_result"
    }
   ],
   "source": [
    "df['tags']"
   ]
  },
  {
   "cell_type": "code",
   "execution_count": 11,
   "metadata": {},
   "outputs": [],
   "source": [
    "from sklearn.feature_extraction.text import CountVectorizer\n",
    "\n",
    "cv = CountVectorizer(max_features=50, stop_words=\"english\")           #Text vectorization using bag of words"
   ]
  },
  {
   "cell_type": "code",
   "execution_count": 12,
   "metadata": {},
   "outputs": [
    {
     "data": {
      "text/plain": [
       "array([[0, 1, 0, 1, 0, 0, 1, 1, 0, 0, 0, 0, 0, 0, 0, 0, 1, 1, 0, 0, 1, 0,\n",
       "        0, 1, 0, 0, 0, 0, 0, 0, 0, 0, 0, 0, 0, 0, 0, 0, 0, 1, 1, 0, 0, 0,\n",
       "        0, 0, 0, 0, 0, 0],\n",
       "       [0, 1, 0, 0, 0, 0, 0, 0, 0, 0, 0, 0, 0, 1, 0, 0, 0, 0, 0, 0, 1, 0,\n",
       "        0, 1, 1, 0, 0, 1, 0, 1, 0, 0, 0, 0, 0, 0, 0, 0, 1, 0, 0, 0, 0, 0,\n",
       "        0, 0, 0, 0, 0, 0],\n",
       "       [0, 0, 0, 1, 0, 1, 1, 1, 0, 0, 0, 0, 1, 0, 0, 0, 1, 1, 0, 0, 0, 0,\n",
       "        0, 0, 0, 0, 0, 0, 0, 0, 0, 0, 0, 1, 0, 0, 0, 0, 0, 1, 1, 0, 0, 0,\n",
       "        0, 0, 0, 0, 0, 0],\n",
       "       [0, 0, 0, 0, 0, 0, 0, 0, 0, 0, 0, 0, 1, 0, 0, 0, 0, 0, 2, 0, 0, 1,\n",
       "        0, 0, 0, 0, 0, 0, 0, 0, 0, 0, 1, 0, 0, 0, 0, 1, 0, 0, 1, 0, 0, 0,\n",
       "        0, 0, 0, 0, 0, 1],\n",
       "       [0, 0, 0, 0, 1, 0, 0, 1, 1, 0, 1, 0, 0, 1, 0, 1, 0, 0, 0, 0, 0, 0,\n",
       "        0, 1, 0, 0, 0, 0, 0, 1, 0, 0, 0, 0, 0, 0, 0, 0, 1, 0, 0, 0, 0, 0,\n",
       "        0, 0, 0, 0, 0, 0],\n",
       "       [0, 0, 0, 0, 0, 1, 1, 1, 0, 0, 0, 0, 1, 0, 0, 0, 0, 0, 0, 0, 0, 0,\n",
       "        0, 0, 0, 0, 0, 0, 0, 0, 0, 1, 0, 1, 0, 0, 1, 0, 0, 1, 0, 0, 0, 0,\n",
       "        0, 0, 0, 0, 0, 0],\n",
       "       [0, 0, 0, 0, 0, 0, 0, 0, 0, 0, 0, 1, 0, 0, 0, 0, 0, 0, 0, 0, 0, 0,\n",
       "        0, 0, 0, 0, 0, 0, 0, 0, 0, 0, 0, 0, 0, 1, 0, 0, 0, 0, 0, 0, 0, 0,\n",
       "        0, 0, 1, 0, 0, 0],\n",
       "       [0, 0, 0, 0, 0, 1, 0, 1, 0, 0, 0, 0, 1, 0, 0, 0, 1, 1, 0, 0, 0, 0,\n",
       "        0, 0, 0, 0, 0, 0, 0, 0, 0, 0, 0, 1, 0, 0, 0, 0, 0, 1, 1, 0, 0, 0,\n",
       "        0, 0, 0, 0, 0, 0],\n",
       "       [0, 0, 0, 0, 0, 0, 0, 0, 0, 0, 0, 0, 0, 0, 0, 0, 0, 0, 1, 0, 0, 0,\n",
       "        0, 2, 0, 1, 0, 0, 0, 0, 0, 0, 0, 0, 0, 0, 1, 0, 0, 0, 0, 0, 0, 0,\n",
       "        0, 0, 0, 0, 0, 1],\n",
       "       [0, 0, 0, 0, 0, 0, 0, 0, 0, 0, 0, 1, 2, 0, 0, 0, 0, 0, 1, 0, 0, 0,\n",
       "        0, 0, 0, 0, 0, 0, 0, 0, 0, 0, 0, 0, 1, 0, 0, 1, 0, 1, 1, 0, 1, 0,\n",
       "        0, 0, 0, 3, 0, 0],\n",
       "       [0, 0, 0, 0, 0, 0, 0, 0, 0, 0, 0, 0, 0, 0, 2, 0, 0, 0, 0, 0, 0, 0,\n",
       "        0, 0, 0, 0, 1, 0, 0, 0, 0, 0, 0, 0, 0, 0, 0, 0, 0, 0, 0, 0, 0, 0,\n",
       "        0, 0, 0, 0, 0, 0],\n",
       "       [0, 0, 0, 0, 0, 0, 0, 0, 0, 0, 0, 0, 0, 0, 0, 0, 0, 0, 0, 0, 0, 0,\n",
       "        0, 0, 0, 0, 0, 0, 1, 0, 0, 0, 0, 0, 0, 0, 0, 0, 0, 0, 0, 0, 0, 0,\n",
       "        0, 0, 0, 0, 0, 0],\n",
       "       [0, 0, 1, 0, 0, 0, 0, 0, 0, 0, 0, 0, 0, 0, 0, 0, 0, 0, 0, 1, 0, 0,\n",
       "        0, 0, 0, 0, 0, 0, 0, 0, 1, 0, 0, 0, 0, 0, 0, 0, 0, 0, 0, 0, 0, 0,\n",
       "        0, 0, 0, 0, 0, 0],\n",
       "       [1, 0, 1, 0, 0, 0, 0, 0, 1, 0, 0, 0, 0, 1, 0, 1, 0, 0, 0, 0, 0, 0,\n",
       "        0, 1, 0, 0, 0, 1, 0, 1, 0, 0, 0, 0, 0, 0, 0, 0, 0, 0, 0, 1, 0, 0,\n",
       "        0, 0, 0, 0, 0, 0],\n",
       "       [0, 0, 0, 0, 1, 0, 0, 0, 0, 2, 1, 0, 0, 0, 0, 0, 0, 0, 1, 0, 0, 0,\n",
       "        1, 0, 0, 0, 0, 0, 0, 0, 0, 0, 0, 0, 0, 0, 0, 0, 0, 0, 0, 0, 0, 0,\n",
       "        0, 0, 0, 0, 0, 1],\n",
       "       [0, 0, 0, 0, 0, 0, 0, 0, 0, 0, 0, 3, 1, 0, 0, 0, 0, 0, 0, 0, 0, 0,\n",
       "        0, 0, 0, 0, 0, 0, 0, 0, 0, 0, 0, 0, 1, 0, 0, 0, 0, 0, 1, 0, 0, 1,\n",
       "        2, 1, 0, 1, 0, 0],\n",
       "       [0, 0, 0, 0, 0, 0, 0, 0, 0, 0, 0, 0, 1, 0, 0, 0, 0, 1, 0, 0, 0, 0,\n",
       "        0, 0, 0, 0, 0, 0, 0, 0, 0, 0, 0, 0, 0, 0, 0, 0, 0, 1, 1, 0, 0, 0,\n",
       "        0, 0, 0, 3, 1, 0]], dtype=int64)"
      ]
     },
     "execution_count": 12,
     "metadata": {},
     "output_type": "execute_result"
    }
   ],
   "source": [
    "vectors = cv.fit_transform(df['tags']).toarray()\n",
    "vectors"
   ]
  },
  {
   "cell_type": "code",
   "execution_count": 13,
   "metadata": {},
   "outputs": [
    {
     "data": {
      "text/plain": [
       "array(['activities', 'artist', 'celebration', 'challeng', 'choreography',\n",
       "       'code', 'coding', 'competition', 'cultural', 'danc', 'dance',\n",
       "       'design', 'development', 'entertainment', 'environment', 'event',\n",
       "       'hackathon', 'innovation', 'learning', 'literature', 'live',\n",
       "       'machin', 'movement', 'music', 'musical', 'musician', 'nature',\n",
       "       'night', 'panel', 'performance', 'poetry', 'problem', 'program',\n",
       "       'programming', 'seminar', 'showcase', 'skill', 'skills', 'stage',\n",
       "       'tech', 'technology', 'tradition', 'trends', 'ui', 'user', 'ux',\n",
       "       'visual', 'web', 'web3', 'workshop'], dtype=object)"
      ]
     },
     "execution_count": 13,
     "metadata": {},
     "output_type": "execute_result"
    }
   ],
   "source": [
    "cv.get_feature_names_out()              #Top 50 keywords"
   ]
  },
  {
   "cell_type": "code",
   "execution_count": 14,
   "metadata": {},
   "outputs": [
    {
     "data": {
      "text/plain": [
       "'danc'"
      ]
     },
     "execution_count": 14,
     "metadata": {},
     "output_type": "execute_result"
    }
   ],
   "source": [
    "ps.stem(\"Danced\")"
   ]
  },
  {
   "cell_type": "code",
   "execution_count": 15,
   "metadata": {},
   "outputs": [
    {
     "data": {
      "text/plain": [
       "array([1.        , 0.3354102 , 0.7       , 0.1       , 0.21081851,\n",
       "       0.3354102 , 0.        , 0.55901699, 0.2236068 , 0.14142136,\n",
       "       0.        , 0.        , 0.        , 0.10540926, 0.        ,\n",
       "       0.07254763, 0.25354628])"
      ]
     },
     "execution_count": 15,
     "metadata": {},
     "output_type": "execute_result"
    }
   ],
   "source": [
    "from sklearn.metrics.pairwise import cosine_similarity\n",
    "\n",
    "cosine_similarity(vectors)[0]"
   ]
  },
  {
   "cell_type": "code",
   "execution_count": 16,
   "metadata": {},
   "outputs": [
    {
     "name": "stdout",
     "output_type": "stream",
     "text": [
      "24CDCDVS\n",
      "27STUVWX\n",
      "24ABCXYZ\n",
      "25GHIJKL\n",
      "36TUVWXY\n"
     ]
    }
   ],
   "source": [
    "from sklearn.metrics.pairwise import cosine_similarity\n",
    "\n",
    "def recommend():\n",
    "    \n",
    "    events = sorted(list(enumerate(cosine_similarity(vectors)[0])), reverse=True, key=lambda x:x[1])[1:6]\n",
    "\n",
    "    for i in events:\n",
    "        print(df.iloc[i[0]][\"ID\"])\n",
    "\n",
    "    \n",
    "\n",
    "recommend()"
   ]
  },
  {
   "cell_type": "code",
   "execution_count": 17,
   "metadata": {},
   "outputs": [
    {
     "data": {
      "text/plain": [
       "[(0, 0.9999999999999999),\n",
       " (2, 0.7),\n",
       " (7, 0.5590169943749475),\n",
       " (1, 0.33541019662496846),\n",
       " (5, 0.33541019662496846),\n",
       " (16, 0.253546276418555),\n",
       " (8, 0.22360679774997896),\n",
       " (4, 0.21081851067789195),\n",
       " (9, 0.1414213562373095),\n",
       " (13, 0.10540925533894598),\n",
       " (3, 0.1),\n",
       " (15, 0.07254762501100116),\n",
       " (6, 0.0),\n",
       " (10, 0.0),\n",
       " (11, 0.0),\n",
       " (12, 0.0),\n",
       " (14, 0.0)]"
      ]
     },
     "execution_count": 17,
     "metadata": {},
     "output_type": "execute_result"
    }
   ],
   "source": [
    "sorted(list(enumerate(cosine_similarity(vectors)[0])), reverse=True, key=lambda x:x[1])"
   ]
  },
  {
   "cell_type": "code",
   "execution_count": 18,
   "metadata": {},
   "outputs": [
    {
     "name": "stdout",
     "output_type": "stream",
     "text": [
      "24CDCDVS\n",
      "27STUVWX\n",
      "24ABCXYZ\n",
      "25GHIJKL\n",
      "36TUVWXY\n"
     ]
    }
   ],
   "source": [
    "events = sorted(list(enumerate(cosine_similarity(vectors)[0])), reverse=True, key=lambda x:x[1])[1:6]\n",
    "\n",
    "for i in events:\n",
    "    print(df.iloc[i[0]][\"ID\"])\n",
    "    "
   ]
  },
  {
   "cell_type": "code",
   "execution_count": 19,
   "metadata": {},
   "outputs": [
    {
     "name": "stdout",
     "output_type": "stream",
     "text": [
      "(('24CDCDVS', 'TechFest', 'Codechef', 'upcoming', datetime.date(2024, 4, 15), 'SJT', 'Annual tech fest showcasing latest technologies', Decimal('50.00'), 1, '4', 'techfest@example.com', 'https://techfest.com', 200, 'Hackathon, Coding, Technology, Innovation, Competition, Development, Programming, Tech, Code, Challenge'),)\n",
      "(('27STUVWX', 'Hackathon', 'Codechef', 'upcoming', datetime.date(2024, 9, 25), 'TT', '24-hour hackathon to develop creative solutions', Decimal('15.00'), 1, '5', 'hackathon@example.com', 'https://hackathon.com', 120, 'Hackathon, Competition, Development, Creative, Solutions, Technology, Programming, Innovation, Tech, Code'),)\n",
      "(('24ABCXYZ', 'Music Night', 'Music', 'upcoming', datetime.date(2024, 5, 10), 'TT', 'An evening of musical performances', Decimal('10.00'), 0, '5', 'musicnight@example.com', 'https://musicnight.com', 150, 'Music, Concert, Performance, Entertainment, Night, Singing, Musical, Artist, Live, Stage'),)\n",
      "(('25GHIJKL', 'Coding Challenge', 'Codechef', 'upcoming', datetime.date(2024, 7, 15), 'SJT', 'Test your coding skills in a competitive environment', Decimal('5.00'), 0, '1', 'codingchallenge@example.com', 'https://codingchallenge.com', 50, 'Coding, Challenge, Competition, Programming, Problem Solving, Development, Tech, Code, Skill, Contest'),)\n",
      "(('36TUVWXY', 'Web3.0 Conference', 'Codechef', 'upcoming', datetime.date(2024, 10, 5), 'PRP', 'Explore the future of the web with Web3.0 technologies', Decimal('20.00'), 1, '5', 'web3conference@example.com', 'https://web3conference.com', 150, 'Web3.0, Conference, Future, Web, Technology, Innovation, Tech, Digital, Web Development, Web Technologies'),)\n"
     ]
    }
   ],
   "source": [
    "curr = conn.cursor()\n",
    "\n",
    "for i in events:\n",
    "    query = f'Select * from event where EventID = \"{df.iloc[i[0]][\"ID\"]}\"'\n",
    "    curr.execute(query)  \n",
    "    results = curr.fetchall()  \n",
    "    print(results)  "
   ]
  },
  {
   "cell_type": "code",
   "execution_count": 20,
   "metadata": {},
   "outputs": [],
   "source": [
    "from rake_nltk import Rake"
   ]
  },
  {
   "cell_type": "code",
   "execution_count": 21,
   "metadata": {},
   "outputs": [
    {
     "name": "stdout",
     "output_type": "stream",
     "text": [
      "Requirement already satisfied: rake-nltk in c:\\users\\lenevo\\appdata\\local\\programs\\python\\python39\\lib\\site-packages (1.0.6)\n",
      "Requirement already satisfied: nltk<4.0.0,>=3.6.2 in c:\\users\\lenevo\\appdata\\local\\programs\\python\\python39\\lib\\site-packages (from rake-nltk) (3.8.1)\n",
      "Requirement already satisfied: click in c:\\users\\lenevo\\appdata\\local\\programs\\python\\python39\\lib\\site-packages (from nltk<4.0.0,>=3.6.2->rake-nltk) (8.1.7)\n",
      "Requirement already satisfied: joblib in c:\\users\\lenevo\\appdata\\local\\programs\\python\\python39\\lib\\site-packages (from nltk<4.0.0,>=3.6.2->rake-nltk) (1.3.1)\n",
      "Requirement already satisfied: regex>=2021.8.3 in c:\\users\\lenevo\\appdata\\local\\programs\\python\\python39\\lib\\site-packages (from nltk<4.0.0,>=3.6.2->rake-nltk) (2023.12.25)\n",
      "Requirement already satisfied: tqdm in c:\\users\\lenevo\\appdata\\local\\programs\\python\\python39\\lib\\site-packages (from nltk<4.0.0,>=3.6.2->rake-nltk) (4.66.2)\n",
      "Requirement already satisfied: colorama in c:\\users\\lenevo\\appdata\\local\\programs\\python\\python39\\lib\\site-packages (from click->nltk<4.0.0,>=3.6.2->rake-nltk) (0.4.6)\n"
     ]
    },
    {
     "name": "stderr",
     "output_type": "stream",
     "text": [
      "WARNING: Ignoring invalid distribution -rotobuf (c:\\users\\lenevo\\appdata\\local\\programs\\python\\python39\\lib\\site-packages)\n",
      "WARNING: Ignoring invalid distribution -rotobuf (c:\\users\\lenevo\\appdata\\local\\programs\\python\\python39\\lib\\site-packages)\n"
     ]
    }
   ],
   "source": [
    "!pip install rake-nltk"
   ]
  },
  {
   "cell_type": "code",
   "execution_count": 24,
   "metadata": {},
   "outputs": [
    {
     "data": {
      "text/html": [
       "<div>\n",
       "<style scoped>\n",
       "    .dataframe tbody tr th:only-of-type {\n",
       "        vertical-align: middle;\n",
       "    }\n",
       "\n",
       "    .dataframe tbody tr th {\n",
       "        vertical-align: top;\n",
       "    }\n",
       "\n",
       "    .dataframe thead th {\n",
       "        text-align: right;\n",
       "    }\n",
       "</style>\n",
       "<table border=\"1\" class=\"dataframe\">\n",
       "  <thead>\n",
       "    <tr style=\"text-align: right;\">\n",
       "      <th></th>\n",
       "      <th>ID</th>\n",
       "      <th>tags</th>\n",
       "      <th>description</th>\n",
       "    </tr>\n",
       "  </thead>\n",
       "  <tbody>\n",
       "    <tr>\n",
       "      <th>0</th>\n",
       "      <td>22BBS0129</td>\n",
       "      <td>Hackathon, Coding, Technology, Innovation, Com...</td>\n",
       "      <td>NaN</td>\n",
       "    </tr>\n",
       "    <tr>\n",
       "      <th>1</th>\n",
       "      <td>24ABCXYZ</td>\n",
       "      <td>Music, Concert, Performance, Entertainment, Ni...</td>\n",
       "      <td>An evening of musical performances</td>\n",
       "    </tr>\n",
       "    <tr>\n",
       "      <th>2</th>\n",
       "      <td>24CDCDVS</td>\n",
       "      <td>Hackathon, Coding, Technology, Innovation, Com...</td>\n",
       "      <td>Annual tech fest showcasing latest technologies</td>\n",
       "    </tr>\n",
       "    <tr>\n",
       "      <th>3</th>\n",
       "      <td>24DEFUVW</td>\n",
       "      <td>Workshop, AI, Machine Learning, Artificial Int...</td>\n",
       "      <td>Hands-on workshop on AI and Machine Learning</td>\n",
       "    </tr>\n",
       "    <tr>\n",
       "      <th>4</th>\n",
       "      <td>24YMCAKY</td>\n",
       "      <td>Dance, Competition, Performance, Music, Choreo...</td>\n",
       "      <td>Inter-college dance competition</td>\n",
       "    </tr>\n",
       "    <tr>\n",
       "      <th>5</th>\n",
       "      <td>25GHIJKL</td>\n",
       "      <td>Coding, Challenge, Competition, Programming, P...</td>\n",
       "      <td>Test your coding skills in a competitive envir...</td>\n",
       "    </tr>\n",
       "    <tr>\n",
       "      <th>6</th>\n",
       "      <td>26MNOPQR</td>\n",
       "      <td>Design, Expo, Exhibition, Innovative, Creativi...</td>\n",
       "      <td>Exhibition showcasing innovative designs</td>\n",
       "    </tr>\n",
       "    <tr>\n",
       "      <th>7</th>\n",
       "      <td>27STUVWX</td>\n",
       "      <td>Hackathon, Competition, Development, Creative,...</td>\n",
       "      <td>24-hour hackathon to develop creative solutions</td>\n",
       "    </tr>\n",
       "    <tr>\n",
       "      <th>8</th>\n",
       "      <td>28YZABCD</td>\n",
       "      <td>Music, Workshop, Learning, Basics, Techniques,...</td>\n",
       "      <td>Learn music basics and techniques from experts</td>\n",
       "    </tr>\n",
       "    <tr>\n",
       "      <th>9</th>\n",
       "      <td>29CDEFGH</td>\n",
       "      <td>Web, Development, Seminar, Trends, Web Develop...</td>\n",
       "      <td>Explore the latest trends in web development</td>\n",
       "    </tr>\n",
       "    <tr>\n",
       "      <th>10</th>\n",
       "      <td>30IJKLMO</td>\n",
       "      <td>Environment, Cleanup, Earth Day, Green, Sustai...</td>\n",
       "      <td>Join us in cleaning up the environment for Ear...</td>\n",
       "    </tr>\n",
       "    <tr>\n",
       "      <th>11</th>\n",
       "      <td>31PQRSTU</td>\n",
       "      <td>Panel, Discussion, Social, Impact, Issues, Awa...</td>\n",
       "      <td>Discussion on social issues and their impact</td>\n",
       "    </tr>\n",
       "    <tr>\n",
       "      <th>12</th>\n",
       "      <td>32VWXYZA</td>\n",
       "      <td>Literature, Festival, Reading, Writing, Poetry...</td>\n",
       "      <td>Celebration of literature with readings and pe...</td>\n",
       "    </tr>\n",
       "    <tr>\n",
       "      <th>13</th>\n",
       "      <td>33BCDEFG</td>\n",
       "      <td>Cultural, Night, Performance, Activities, Cele...</td>\n",
       "      <td>An evening of cultural performances and activi...</td>\n",
       "    </tr>\n",
       "    <tr>\n",
       "      <th>14</th>\n",
       "      <td>34HIJKLM</td>\n",
       "      <td>Dance, Workshop, Styles, Learning, Choreograph...</td>\n",
       "      <td>Learn dance styles from around the world</td>\n",
       "    </tr>\n",
       "    <tr>\n",
       "      <th>15</th>\n",
       "      <td>35NOPQRS</td>\n",
       "      <td>UI, UX, Design, Seminar, User Interface, User ...</td>\n",
       "      <td>Insights into user interface and user experien...</td>\n",
       "    </tr>\n",
       "    <tr>\n",
       "      <th>16</th>\n",
       "      <td>36TUVWXY</td>\n",
       "      <td>Web3.0, Conference, Future, Web, Technology, I...</td>\n",
       "      <td>Explore the future of the web with Web3.0 tech...</td>\n",
       "    </tr>\n",
       "  </tbody>\n",
       "</table>\n",
       "</div>"
      ],
      "text/plain": [
       "           ID                                               tags  \\\n",
       "0   22BBS0129  Hackathon, Coding, Technology, Innovation, Com...   \n",
       "1    24ABCXYZ  Music, Concert, Performance, Entertainment, Ni...   \n",
       "2    24CDCDVS  Hackathon, Coding, Technology, Innovation, Com...   \n",
       "3    24DEFUVW  Workshop, AI, Machine Learning, Artificial Int...   \n",
       "4    24YMCAKY  Dance, Competition, Performance, Music, Choreo...   \n",
       "5    25GHIJKL  Coding, Challenge, Competition, Programming, P...   \n",
       "6    26MNOPQR  Design, Expo, Exhibition, Innovative, Creativi...   \n",
       "7    27STUVWX  Hackathon, Competition, Development, Creative,...   \n",
       "8    28YZABCD  Music, Workshop, Learning, Basics, Techniques,...   \n",
       "9    29CDEFGH  Web, Development, Seminar, Trends, Web Develop...   \n",
       "10   30IJKLMO  Environment, Cleanup, Earth Day, Green, Sustai...   \n",
       "11   31PQRSTU  Panel, Discussion, Social, Impact, Issues, Awa...   \n",
       "12   32VWXYZA  Literature, Festival, Reading, Writing, Poetry...   \n",
       "13   33BCDEFG  Cultural, Night, Performance, Activities, Cele...   \n",
       "14   34HIJKLM  Dance, Workshop, Styles, Learning, Choreograph...   \n",
       "15   35NOPQRS  UI, UX, Design, Seminar, User Interface, User ...   \n",
       "16   36TUVWXY  Web3.0, Conference, Future, Web, Technology, I...   \n",
       "\n",
       "                                          description  \n",
       "0                                                 NaN  \n",
       "1                  An evening of musical performances  \n",
       "2     Annual tech fest showcasing latest technologies  \n",
       "3        Hands-on workshop on AI and Machine Learning  \n",
       "4                     Inter-college dance competition  \n",
       "5   Test your coding skills in a competitive envir...  \n",
       "6            Exhibition showcasing innovative designs  \n",
       "7     24-hour hackathon to develop creative solutions  \n",
       "8      Learn music basics and techniques from experts  \n",
       "9        Explore the latest trends in web development  \n",
       "10  Join us in cleaning up the environment for Ear...  \n",
       "11       Discussion on social issues and their impact  \n",
       "12  Celebration of literature with readings and pe...  \n",
       "13  An evening of cultural performances and activi...  \n",
       "14           Learn dance styles from around the world  \n",
       "15  Insights into user interface and user experien...  \n",
       "16  Explore the future of the web with Web3.0 tech...  "
      ]
     },
     "execution_count": 24,
     "metadata": {},
     "output_type": "execute_result"
    }
   ],
   "source": [
    "df"
   ]
  },
  {
   "cell_type": "code",
   "execution_count": 32,
   "metadata": {},
   "outputs": [
    {
     "name": "stdout",
     "output_type": "stream",
     "text": [
      "An evening of musical performances\n",
      "(4.0, 'musical performances')\n",
      "music perform\n",
      "(1.0, 'evening')\n",
      "even\n",
      "--------------------\n",
      "Annual tech fest showcasing latest technologies\n",
      "(36.0, 'annual tech fest showcasing latest technologies')\n",
      "annual tech fest showcas latest technolog\n",
      "--------------------\n",
      "Hands-on workshop on AI and Machine Learning\n",
      "(4.0, 'machine learning')\n",
      "machin learn\n",
      "(1.0, 'workshop')\n",
      "workshop\n",
      "(1.0, 'hands')\n",
      "hand\n",
      "(1.0, 'ai')\n",
      "ai\n",
      "--------------------\n",
      "Inter-college dance competition\n",
      "(9.0, 'college dance competition')\n",
      "colleg danc competit\n",
      "(1.0, 'inter')\n",
      "inter\n",
      "--------------------\n",
      "Test your coding skills in a competitive environment\n",
      "(4.0, 'competitive environment')\n",
      "competit environ\n",
      "(4.0, 'coding skills')\n",
      "code skill\n",
      "(1.0, 'test')\n",
      "test\n",
      "--------------------\n"
     ]
    }
   ],
   "source": [
    "for i in df[\"description\"][1:6]:\n",
    "    print(i)\n",
    "    r = Rake()\n",
    "    r.extract_keywords_from_text(i)\n",
    "    keywords_with_scores = r.get_ranked_phrases_with_scores()\n",
    "    \n",
    "    for i in keywords_with_scores:\n",
    "        print(i)\n",
    "        print(stem(i[1]))\n",
    "    \n",
    "    print(\"-\"*20)\n"
   ]
  },
  {
   "cell_type": "code",
   "execution_count": 68,
   "metadata": {},
   "outputs": [
    {
     "data": {
      "text/plain": [
       "'Hackathon, Coding, Technology, Innovation, Competition, Development, Programming, Tech, Code, Challenge, annual tech fest showcasing latest technologies, annual tech fest showcasing latest technologies'"
      ]
     },
     "execution_count": 68,
     "metadata": {},
     "output_type": "execute_result"
    }
   ],
   "source": [
    "df['tags'][2]\n"
   ]
  },
  {
   "cell_type": "code",
   "execution_count": 67,
   "metadata": {},
   "outputs": [
    {
     "name": "stdout",
     "output_type": "stream",
     "text": [
      "nan\n",
      "--------------------\n",
      "An evening of musical performances\n",
      "--------------------\n",
      "Annual tech fest showcasing latest technologies\n",
      "here\n",
      "Adding annual tech fest showcasing latest technologies\n",
      "Hackathon, Coding, Technology, Innovation, Competition, Development, Programming, Tech, Code, Challenge, annual tech fest showcasing latest technologies, annual tech fest showcasing latest technologies\n",
      "--------------------\n",
      "Hands-on workshop on AI and Machine Learning\n",
      "--------------------\n",
      "Inter-college dance competition\n",
      "here\n",
      "Adding college dance competition\n",
      "Dance, Competition, Performance, Music, Choreography, Entertainment, Talent, Stage, Cultural, Event, college dance competition, college dance competition\n",
      "--------------------\n",
      "Test your coding skills in a competitive environment\n",
      "--------------------\n",
      "Exhibition showcasing innovative designs\n",
      "here\n",
      "Adding exhibition showcasing innovative designs\n",
      "Design, Expo, Exhibition, Innovative, Creativity, Showcase, Art, Display, Inspiration, Visual, exhibition showcasing innovative designs, exhibition showcasing innovative designs\n",
      "--------------------\n",
      "24-hour hackathon to develop creative solutions\n",
      "here\n",
      "Adding develop creative solutions\n",
      "Hackathon, Competition, Development, Creative, Solutions, Technology, Programming, Innovation, Tech, Code, develop creative solutions, develop creative solutions\n",
      "--------------------\n",
      "Learn music basics and techniques from experts\n",
      "here\n",
      "Adding learn music basics\n",
      "Music, Workshop, Learning, Basics, Techniques, Musician, Instrument, Skill, Music Theory, Education, learn music basics, learn music basics\n",
      "--------------------\n",
      "Explore the latest trends in web development\n",
      "--------------------\n",
      "Join us in cleaning up the environment for Earth Day\n",
      "--------------------\n",
      "Discussion on social issues and their impact\n",
      "--------------------\n",
      "Celebration of literature with readings and performances\n",
      "--------------------\n",
      "An evening of cultural performances and activities\n",
      "--------------------\n",
      "Learn dance styles from around the world\n",
      "here\n",
      "Adding learn dance styles\n",
      "Dance, Workshop, Styles, Learning, Choreography, Dance Forms, Dancing, Movement, Technique, Dance Class, learn dance styles, learn dance styles\n",
      "--------------------\n",
      "Insights into user interface and user experience design\n",
      "here\n",
      "Adding user experience design\n",
      "UI, UX, Design, Seminar, User Interface, User Experience, Web Design, Technology, Development, Design Thinking, user experience design, user experience design\n",
      "--------------------\n",
      "Explore the future of the web with Web3.0 technologies\n",
      "--------------------\n"
     ]
    },
    {
     "data": {
      "text/plain": [
       "'Dance, Competition, Performance, Music, Choreography, Entertainment, Talent, Stage, Cultural, Event, college dance competition, college dance competition'"
      ]
     },
     "execution_count": 67,
     "metadata": {},
     "output_type": "execute_result"
    }
   ],
   "source": [
    "from rake_nltk import Rake\n",
    "\n",
    "for i in range(len(df)):\n",
    "\n",
    "    r = Rake()\n",
    "    if i:\n",
    "        r.extract_keywords_from_text(df.iloc[i][\"description\"])\n",
    "        keywords_with_scores = r.get_ranked_phrases_with_scores()\n",
    "\n",
    "        for score, keyword in keywords_with_scores:\n",
    "            if(score > 3):\n",
    "                df.loc[i, 'tags'] = df.loc[i, 'tags'] + f\", {keyword}\"\n",
    "\n",
    "\n"
   ]
  },
  {
   "cell_type": "code",
   "execution_count": 33,
   "metadata": {},
   "outputs": [
    {
     "data": {
      "text/plain": [
       "0     Hackathon, Coding, Technology, Innovation, Com...\n",
       "1     Music, Concert, Performance, Entertainment, Ni...\n",
       "2     Hackathon, Coding, Technology, Innovation, Com...\n",
       "3     Workshop, AI, Machine Learning, Artificial Int...\n",
       "4     Dance, Competition, Performance, Music, Choreo...\n",
       "5     Coding, Challenge, Competition, Programming, P...\n",
       "6     Design, Expo, Exhibition, Innovative, Creativi...\n",
       "7     Hackathon, Competition, Development, Creative,...\n",
       "8     Music, Workshop, Learning, Basics, Techniques,...\n",
       "9     Web, Development, Seminar, Trends, Web Develop...\n",
       "10    Environment, Cleanup, Earth Day, Green, Sustai...\n",
       "11    Panel, Discussion, Social, Impact, Issues, Awa...\n",
       "12    Literature, Festival, Reading, Writing, Poetry...\n",
       "13    Cultural, Night, Performance, Activities, Cele...\n",
       "14    Dance, Workshop, Styles, Learning, Choreograph...\n",
       "15    UI, UX, Design, Seminar, User Interface, User ...\n",
       "16    Web3.0, Conference, Future, Web, Technology, I...\n",
       "Name: tags, dtype: object"
      ]
     },
     "execution_count": 33,
     "metadata": {},
     "output_type": "execute_result"
    }
   ],
   "source": []
  },
  {
   "cell_type": "code",
   "execution_count": 26,
   "metadata": {},
   "outputs": [
    {
     "name": "stderr",
     "output_type": "stream",
     "text": [
      "[nltk_data] Downloading package stopwords to\n",
      "[nltk_data]     C:\\Users\\Lenevo\\AppData\\Roaming\\nltk_data...\n",
      "[nltk_data]   Unzipping corpora\\stopwords.zip.\n",
      "[nltk_data] Downloading package punkt to\n",
      "[nltk_data]     C:\\Users\\Lenevo\\AppData\\Roaming\\nltk_data...\n",
      "[nltk_data]   Unzipping tokenizers\\punkt.zip.\n"
     ]
    },
    {
     "data": {
      "text/plain": [
       "True"
      ]
     },
     "execution_count": 26,
     "metadata": {},
     "output_type": "execute_result"
    }
   ],
   "source": [
    "import nltk\n",
    "nltk.download('stopwords')\n",
    "nltk.download(\"punkt\")"
   ]
  }
 ],
 "metadata": {
  "kernelspec": {
   "display_name": "Python 3",
   "language": "python",
   "name": "python3"
  },
  "language_info": {
   "codemirror_mode": {
    "name": "ipython",
    "version": 3
   },
   "file_extension": ".py",
   "mimetype": "text/x-python",
   "name": "python",
   "nbconvert_exporter": "python",
   "pygments_lexer": "ipython3",
   "version": "3.9.13"
  }
 },
 "nbformat": 4,
 "nbformat_minor": 2
}
